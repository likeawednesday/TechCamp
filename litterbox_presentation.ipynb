{
 "cells": [
  {
   "cell_type": "markdown",
   "metadata": {},
   "source": [
    "# Data Visualization Using Python"
   ]
  },
  {
   "cell_type": "code",
   "execution_count": 1,
   "metadata": {},
   "outputs": [],
   "source": [
    "# load libraries\n",
    "\n",
    "import pandas as pd\n",
    "#import numpy as np\n",
    "import matplotlib.pyplot as plt\n",
    "import seaborn as sns"
   ]
  },
  {
   "cell_type": "markdown",
   "metadata": {},
   "source": [
    "## Data Exploration Pt I: Non-visual exploration"
   ]
  },
  {
   "cell_type": "markdown",
   "metadata": {},
   "source": [
    "### Sample 1\n",
    "\n",
    "As you go through this, consider:\n",
    " * What is this data telling us?\n",
    " * What kinds of visuals would be suitable for this data? Why?\n",
    " * What kinds of visuals would not be suitable for this data? Why?\n",
    " * Why are these steps important to do before creating a visual?\n",
    " * What other non-visual information might you want to look at before creating a visual?"
   ]
  },
  {
   "cell_type": "code",
   "execution_count": 8,
   "metadata": {},
   "outputs": [
    {
     "data": {
      "text/html": [
       "<div>\n",
       "<style scoped>\n",
       "    .dataframe tbody tr th:only-of-type {\n",
       "        vertical-align: middle;\n",
       "    }\n",
       "\n",
       "    .dataframe tbody tr th {\n",
       "        vertical-align: top;\n",
       "    }\n",
       "\n",
       "    .dataframe thead th {\n",
       "        text-align: right;\n",
       "    }\n",
       "</style>\n",
       "<table border=\"1\" class=\"dataframe\">\n",
       "  <thead>\n",
       "    <tr style=\"text-align: right;\">\n",
       "      <th></th>\n",
       "      <th>Respondent</th>\n",
       "      <th>Answer</th>\n",
       "    </tr>\n",
       "  </thead>\n",
       "  <tbody>\n",
       "    <tr>\n",
       "      <th>0</th>\n",
       "      <td>1</td>\n",
       "      <td>Yes</td>\n",
       "    </tr>\n",
       "    <tr>\n",
       "      <th>1</th>\n",
       "      <td>2</td>\n",
       "      <td>Yes</td>\n",
       "    </tr>\n",
       "    <tr>\n",
       "      <th>2</th>\n",
       "      <td>3</td>\n",
       "      <td>Yes</td>\n",
       "    </tr>\n",
       "    <tr>\n",
       "      <th>3</th>\n",
       "      <td>4</td>\n",
       "      <td>No</td>\n",
       "    </tr>\n",
       "    <tr>\n",
       "      <th>4</th>\n",
       "      <td>5</td>\n",
       "      <td>No</td>\n",
       "    </tr>\n",
       "  </tbody>\n",
       "</table>\n",
       "</div>"
      ],
      "text/plain": [
       "   Respondent Answer\n",
       "0           1    Yes\n",
       "1           2    Yes\n",
       "2           3    Yes\n",
       "3           4    No \n",
       "4           5    No "
      ]
     },
     "execution_count": 8,
     "metadata": {},
     "output_type": "execute_result"
    }
   ],
   "source": [
    "# import data\n",
    "df_s1 = pd.read_excel(r'.\\data\\sample_1_YesNo.xlsx')\n",
    "df_s1"
   ]
  },
  {
   "cell_type": "code",
   "execution_count": 9,
   "metadata": {},
   "outputs": [
    {
     "name": "stdout",
     "output_type": "stream",
     "text": [
      "Size:  10\n",
      "Shape:  (5, 2)\n"
     ]
    }
   ],
   "source": [
    "# size and shape of data\n",
    "print('Size: ', df_s1.size)\n",
    "print('Shape: ', df_s1.shape)"
   ]
  },
  {
   "cell_type": "code",
   "execution_count": 12,
   "metadata": {},
   "outputs": [
    {
     "data": {
      "text/plain": [
       "Respondent     int64\n",
       "Answer        object\n",
       "dtype: object"
      ]
     },
     "execution_count": 12,
     "metadata": {},
     "output_type": "execute_result"
    }
   ],
   "source": [
    "# check data types\n",
    "df_s1.dtypes"
   ]
  },
  {
   "cell_type": "code",
   "execution_count": 13,
   "metadata": {},
   "outputs": [
    {
     "name": "stdout",
     "output_type": "stream",
     "text": [
      "Boolean Values\n",
      " Respondent    False\n",
      "Answer        False\n",
      "dtype: bool\n",
      "\n",
      "Null/NaN Count\n",
      " Respondent    0\n",
      "Answer        0\n",
      "dtype: int64\n"
     ]
    }
   ],
   "source": [
    "# check for null values\n",
    "\n",
    "# tells you if a null value exists in each column\n",
    "print('Boolean Values\\n', df.isnull().any())\n",
    "print()\n",
    "\n",
    "# tells you how many null values exist in each column\n",
    "print('Null/NaN Count\\n', df.isnull().sum())"
   ]
  },
  {
   "cell_type": "markdown",
   "metadata": {},
   "source": [
    "## Data Exploration Pt II: Exploration using visuals"
   ]
  },
  {
   "cell_type": "markdown",
   "metadata": {},
   "source": [
    "### Sample 1: Good visuals"
   ]
  },
  {
   "cell_type": "code",
   "execution_count": 67,
   "metadata": {},
   "outputs": [
    {
     "data": {
      "text/plain": [
       "<matplotlib.legend.Legend at 0x1c3a9e40280>"
      ]
     },
     "execution_count": 67,
     "metadata": {},
     "output_type": "execute_result"
    },
    {
     "data": {
      "image/png": "[encoded data removed]",
      "text/plain": [
       "<Figure size 720x720 with 1 Axes>"
      ]
     },
     "metadata": {},
     "output_type": "display_data"
    }
   ],
   "source": [
    "# pie\n",
    "\n",
    "# pandas built in follow basic form of df.plot.[visual type]\n",
    "# if you want to know more about how this syntax works, see https://stackoverflow.com/questions/62534037/plotting-non-numerical-data-in-python\n",
    "# p_pie = df_s1.groupby('Answer')['Answer'].count().plot.pie(title = 'Survey Results')\n",
    "# p_pie.legend(title = 'Reponses',\n",
    "#              loc = 'center right', \n",
    "#              bbox_to_anchor = (1,0,0.5,1))\n",
    "# p_pie.set_title('Survey Results: Do You Like Dogs?')\n",
    "\n",
    "# plt.show()\n",
    "\n",
    "p_pie = df_s1.groupby('Answer')['Answer'].count().plot.pie(\n",
    "    labels = ['Yes', 'No'], #why isn't this working??\n",
    "    colors = ['b', 'c'], # you can leave this out and colors will autoselect\n",
    "    autopct = '%.2f', figsize = (10, 10))\n",
    "p_pie.set_title('Survey Responses')\n",
    "p_pie.legend(title = 'Reponses',\n",
    "             loc = 'center right', \n",
    "             bbox_to_anchor = (0.7,0,0.5,1))\n",
    "# matplotlib is used for labeling for both pandas and seaborn plots\n"
   ]
  },
  {
   "cell_type": "code",
   "execution_count": null,
   "metadata": {},
   "outputs": [],
   "source": [
    "# donut\n",
    "\n",
    "# matplotlib\n",
    "\n",
    "# seaborn"
   ]
  },
  {
   "cell_type": "code",
   "execution_count": null,
   "metadata": {},
   "outputs": [],
   "source": [
    "# bar\n",
    "\n",
    "# matplotlib\n",
    "\n",
    "# seaborn"
   ]
  },
  {
   "cell_type": "code",
   "execution_count": null,
   "metadata": {},
   "outputs": [],
   "source": [
    "# treemap\n",
    "\n",
    "# matplotlib\n",
    "\n",
    "# seaborn"
   ]
  },
  {
   "cell_type": "markdown",
   "metadata": {},
   "source": [
    "#### Sample 1: Now deliberately make a bad visual or two"
   ]
  },
  {
   "cell_type": "code",
   "execution_count": null,
   "metadata": {},
   "outputs": [],
   "source": []
  },
  {
   "cell_type": "code",
   "execution_count": null,
   "metadata": {},
   "outputs": [],
   "source": []
  }
 ],
 "metadata": {
  "kernelspec": {
   "display_name": "Python 3",
   "language": "python",
   "name": "python3"
  },
  "language_info": {
   "codemirror_mode": {
    "name": "ipython",
    "version": 3
   },
   "file_extension": ".py",
   "mimetype": "text/x-python",
   "name": "python",
   "nbconvert_exporter": "python",
   "pygments_lexer": "ipython3",
   "version": "3.8.5"
  }
 },
 "nbformat": 4,
 "nbformat_minor": 4
}
