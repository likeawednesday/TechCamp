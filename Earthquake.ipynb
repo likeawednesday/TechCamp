{
 "cells": [
  {
   "cell_type": "markdown",
   "metadata": {},
   "source": [
    "# Earthquake Data\n",
    "\n",
    "## https://www.kaggle.com/datasets/warcoder/earthquake-dataset"
   ]
  },
  {
   "cell_type": "markdown",
   "metadata": {},
   "source": [
    "### Load libraries"
   ]
  },
  {
   "cell_type": "code",
   "execution_count": 1,
   "metadata": {},
   "outputs": [],
   "source": [
    "import pandas as pd\n",
    "import matplotlib.pyplot as plt\n",
    "import seaborn as sns\n",
    "import numpy as np"
   ]
  },
  {
   "cell_type": "markdown",
   "metadata": {},
   "source": [
    "### Load file(s) into Pandas dataframe\n",
    "##### if excel file, can use pd.read_excel(filepath)\n",
    "##### if csv file, can use pd.read_csv(filepath)\n",
    "##### if txt file, can use pd.read_csv(filepath, delimiter = \"\\t\") or whatever your delimiter is for your file"
   ]
  },
  {
   "cell_type": "code",
   "execution_count": 2,
   "metadata": {},
   "outputs": [],
   "source": [
    "df = pd.read_csv(r'.\\data\\earthquake_data.csv')\n",
    "\n",
    "# can also use this filepath option:\n",
    "# df = pd.read_csv(r'C:\\GitHub\\TechCamp\\data\\earthquake_data.csv)"
   ]
  },
  {
   "cell_type": "markdown",
   "metadata": {},
   "source": [
    "### Dataframe Exploration"
   ]
  },
  {
   "cell_type": "markdown",
   "metadata": {},
   "source": [
    "#### view top rows"
   ]
  },
  {
   "cell_type": "code",
   "execution_count": 3,
   "metadata": {},
   "outputs": [
    {
     "data": {
      "text/html": [
       "<div>\n",
       "<style scoped>\n",
       "    .dataframe tbody tr th:only-of-type {\n",
       "        vertical-align: middle;\n",
       "    }\n",
       "\n",
       "    .dataframe tbody tr th {\n",
       "        vertical-align: top;\n",
       "    }\n",
       "\n",
       "    .dataframe thead th {\n",
       "        text-align: right;\n",
       "    }\n",
       "</style>\n",
       "<table border=\"1\" class=\"dataframe\">\n",
       "  <thead>\n",
       "    <tr style=\"text-align: right;\">\n",
       "      <th></th>\n",
       "      <th>title</th>\n",
       "      <th>magnitude</th>\n",
       "      <th>date_time</th>\n",
       "      <th>cdi</th>\n",
       "      <th>mmi</th>\n",
       "      <th>alert</th>\n",
       "      <th>tsunami</th>\n",
       "      <th>sig</th>\n",
       "      <th>net</th>\n",
       "      <th>nst</th>\n",
       "      <th>dmin</th>\n",
       "      <th>gap</th>\n",
       "      <th>magType</th>\n",
       "      <th>depth</th>\n",
       "      <th>latitude</th>\n",
       "      <th>longitude</th>\n",
       "      <th>location</th>\n",
       "      <th>continent</th>\n",
       "      <th>country</th>\n",
       "    </tr>\n",
       "  </thead>\n",
       "  <tbody>\n",
       "    <tr>\n",
       "      <th>0</th>\n",
       "      <td>M 7.0 - 18 km SW of Malango, Solomon Islands</td>\n",
       "      <td>7.0</td>\n",
       "      <td>22-11-2022 02:03</td>\n",
       "      <td>8</td>\n",
       "      <td>7</td>\n",
       "      <td>green</td>\n",
       "      <td>1</td>\n",
       "      <td>768</td>\n",
       "      <td>us</td>\n",
       "      <td>117</td>\n",
       "      <td>0.509</td>\n",
       "      <td>17.0</td>\n",
       "      <td>mww</td>\n",
       "      <td>14.000</td>\n",
       "      <td>-9.7963</td>\n",
       "      <td>159.596</td>\n",
       "      <td>Malango, Solomon Islands</td>\n",
       "      <td>Oceania</td>\n",
       "      <td>Solomon Islands</td>\n",
       "    </tr>\n",
       "    <tr>\n",
       "      <th>1</th>\n",
       "      <td>M 6.9 - 204 km SW of Bengkulu, Indonesia</td>\n",
       "      <td>6.9</td>\n",
       "      <td>18-11-2022 13:37</td>\n",
       "      <td>4</td>\n",
       "      <td>4</td>\n",
       "      <td>green</td>\n",
       "      <td>0</td>\n",
       "      <td>735</td>\n",
       "      <td>us</td>\n",
       "      <td>99</td>\n",
       "      <td>2.229</td>\n",
       "      <td>34.0</td>\n",
       "      <td>mww</td>\n",
       "      <td>25.000</td>\n",
       "      <td>-4.9559</td>\n",
       "      <td>100.738</td>\n",
       "      <td>Bengkulu, Indonesia</td>\n",
       "      <td>NaN</td>\n",
       "      <td>NaN</td>\n",
       "    </tr>\n",
       "    <tr>\n",
       "      <th>2</th>\n",
       "      <td>M 7.0 -</td>\n",
       "      <td>7.0</td>\n",
       "      <td>12-11-2022 07:09</td>\n",
       "      <td>3</td>\n",
       "      <td>3</td>\n",
       "      <td>green</td>\n",
       "      <td>1</td>\n",
       "      <td>755</td>\n",
       "      <td>us</td>\n",
       "      <td>147</td>\n",
       "      <td>3.125</td>\n",
       "      <td>18.0</td>\n",
       "      <td>mww</td>\n",
       "      <td>579.000</td>\n",
       "      <td>-20.0508</td>\n",
       "      <td>-178.346</td>\n",
       "      <td>NaN</td>\n",
       "      <td>Oceania</td>\n",
       "      <td>Fiji</td>\n",
       "    </tr>\n",
       "    <tr>\n",
       "      <th>3</th>\n",
       "      <td>M 7.3 - 205 km ESE of Neiafu, Tonga</td>\n",
       "      <td>7.3</td>\n",
       "      <td>11-11-2022 10:48</td>\n",
       "      <td>5</td>\n",
       "      <td>5</td>\n",
       "      <td>green</td>\n",
       "      <td>1</td>\n",
       "      <td>833</td>\n",
       "      <td>us</td>\n",
       "      <td>149</td>\n",
       "      <td>1.865</td>\n",
       "      <td>21.0</td>\n",
       "      <td>mww</td>\n",
       "      <td>37.000</td>\n",
       "      <td>-19.2918</td>\n",
       "      <td>-172.129</td>\n",
       "      <td>Neiafu, Tonga</td>\n",
       "      <td>NaN</td>\n",
       "      <td>NaN</td>\n",
       "    </tr>\n",
       "    <tr>\n",
       "      <th>4</th>\n",
       "      <td>M 6.6 -</td>\n",
       "      <td>6.6</td>\n",
       "      <td>09-11-2022 10:14</td>\n",
       "      <td>0</td>\n",
       "      <td>2</td>\n",
       "      <td>green</td>\n",
       "      <td>1</td>\n",
       "      <td>670</td>\n",
       "      <td>us</td>\n",
       "      <td>131</td>\n",
       "      <td>4.998</td>\n",
       "      <td>27.0</td>\n",
       "      <td>mww</td>\n",
       "      <td>624.464</td>\n",
       "      <td>-25.5948</td>\n",
       "      <td>178.278</td>\n",
       "      <td>NaN</td>\n",
       "      <td>NaN</td>\n",
       "      <td>NaN</td>\n",
       "    </tr>\n",
       "  </tbody>\n",
       "</table>\n",
       "</div>"
      ],
      "text/plain": [
       "                                          title  magnitude         date_time  \\\n",
       "0  M 7.0 - 18 km SW of Malango, Solomon Islands        7.0  22-11-2022 02:03   \n",
       "1      M 6.9 - 204 km SW of Bengkulu, Indonesia        6.9  18-11-2022 13:37   \n",
       "2                                      M 7.0 -         7.0  12-11-2022 07:09   \n",
       "3           M 7.3 - 205 km ESE of Neiafu, Tonga        7.3  11-11-2022 10:48   \n",
       "4                                      M 6.6 -         6.6  09-11-2022 10:14   \n",
       "\n",
       "   cdi  mmi  alert  tsunami  sig net  nst   dmin   gap magType    depth  \\\n",
       "0    8    7  green        1  768  us  117  0.509  17.0     mww   14.000   \n",
       "1    4    4  green        0  735  us   99  2.229  34.0     mww   25.000   \n",
       "2    3    3  green        1  755  us  147  3.125  18.0     mww  579.000   \n",
       "3    5    5  green        1  833  us  149  1.865  21.0     mww   37.000   \n",
       "4    0    2  green        1  670  us  131  4.998  27.0     mww  624.464   \n",
       "\n",
       "   latitude  longitude                  location continent          country  \n",
       "0   -9.7963    159.596  Malango, Solomon Islands   Oceania  Solomon Islands  \n",
       "1   -4.9559    100.738       Bengkulu, Indonesia       NaN              NaN  \n",
       "2  -20.0508   -178.346                       NaN   Oceania             Fiji  \n",
       "3  -19.2918   -172.129             Neiafu, Tonga       NaN              NaN  \n",
       "4  -25.5948    178.278                       NaN       NaN              NaN  "
      ]
     },
     "execution_count": 3,
     "metadata": {},
     "output_type": "execute_result"
    }
   ],
   "source": [
    "df.head()"
   ]
  },
  {
   "cell_type": "markdown",
   "metadata": {},
   "source": [
    "#### shape"
   ]
  },
  {
   "cell_type": "code",
   "execution_count": 4,
   "metadata": {},
   "outputs": [
    {
     "data": {
      "text/plain": [
       "(782, 19)"
      ]
     },
     "execution_count": 4,
     "metadata": {},
     "output_type": "execute_result"
    }
   ],
   "source": [
    "df.shape"
   ]
  },
  {
   "cell_type": "markdown",
   "metadata": {},
   "source": [
    "#### data types"
   ]
  },
  {
   "cell_type": "code",
   "execution_count": 5,
   "metadata": {},
   "outputs": [
    {
     "data": {
      "text/plain": [
       "title         object\n",
       "magnitude    float64\n",
       "date_time     object\n",
       "cdi            int64\n",
       "mmi            int64\n",
       "alert         object\n",
       "tsunami        int64\n",
       "sig            int64\n",
       "net           object\n",
       "nst            int64\n",
       "dmin         float64\n",
       "gap          float64\n",
       "magType       object\n",
       "depth        float64\n",
       "latitude     float64\n",
       "longitude    float64\n",
       "location      object\n",
       "continent     object\n",
       "country       object\n",
       "dtype: object"
      ]
     },
     "execution_count": 5,
     "metadata": {},
     "output_type": "execute_result"
    }
   ],
   "source": [
    "df.dtypes"
   ]
  },
  {
   "cell_type": "markdown",
   "metadata": {},
   "source": [
    "#### check for null values"
   ]
  },
  {
   "cell_type": "code",
   "execution_count": 6,
   "metadata": {},
   "outputs": [
    {
     "name": "stdout",
     "output_type": "stream",
     "text": [
      "Boolean Values\n",
      " title        False\n",
      "magnitude    False\n",
      "date_time    False\n",
      "cdi          False\n",
      "mmi          False\n",
      "alert         True\n",
      "tsunami      False\n",
      "sig          False\n",
      "net          False\n",
      "nst          False\n",
      "dmin         False\n",
      "gap          False\n",
      "magType      False\n",
      "depth        False\n",
      "latitude     False\n",
      "longitude    False\n",
      "location      True\n",
      "continent     True\n",
      "country       True\n",
      "dtype: bool\n",
      "\n",
      "Null/NaN Count\n",
      " title          0\n",
      "magnitude      0\n",
      "date_time      0\n",
      "cdi            0\n",
      "mmi            0\n",
      "alert        367\n",
      "tsunami        0\n",
      "sig            0\n",
      "net            0\n",
      "nst            0\n",
      "dmin           0\n",
      "gap            0\n",
      "magType        0\n",
      "depth          0\n",
      "latitude       0\n",
      "longitude      0\n",
      "location       5\n",
      "continent    576\n",
      "country      298\n",
      "dtype: int64\n"
     ]
    }
   ],
   "source": [
    "print('Boolean Values\\n', df.isnull().any())\n",
    "print()\n",
    "print('Null/NaN Count\\n', df.isnull().sum())"
   ]
  },
  {
   "cell_type": "markdown",
   "metadata": {},
   "source": [
    "#### summary stats"
   ]
  },
  {
   "cell_type": "code",
   "execution_count": 7,
   "metadata": {},
   "outputs": [
    {
     "data": {
      "text/html": [
       "<div>\n",
       "<style scoped>\n",
       "    .dataframe tbody tr th:only-of-type {\n",
       "        vertical-align: middle;\n",
       "    }\n",
       "\n",
       "    .dataframe tbody tr th {\n",
       "        vertical-align: top;\n",
       "    }\n",
       "\n",
       "    .dataframe thead th {\n",
       "        text-align: right;\n",
       "    }\n",
       "</style>\n",
       "<table border=\"1\" class=\"dataframe\">\n",
       "  <thead>\n",
       "    <tr style=\"text-align: right;\">\n",
       "      <th></th>\n",
       "      <th>magnitude</th>\n",
       "      <th>cdi</th>\n",
       "      <th>mmi</th>\n",
       "      <th>tsunami</th>\n",
       "      <th>sig</th>\n",
       "      <th>nst</th>\n",
       "      <th>dmin</th>\n",
       "      <th>gap</th>\n",
       "      <th>depth</th>\n",
       "      <th>latitude</th>\n",
       "      <th>longitude</th>\n",
       "    </tr>\n",
       "  </thead>\n",
       "  <tbody>\n",
       "    <tr>\n",
       "      <th>count</th>\n",
       "      <td>782.000000</td>\n",
       "      <td>782.000000</td>\n",
       "      <td>782.000000</td>\n",
       "      <td>782.000000</td>\n",
       "      <td>782.000000</td>\n",
       "      <td>782.000000</td>\n",
       "      <td>782.000000</td>\n",
       "      <td>782.000000</td>\n",
       "      <td>782.000000</td>\n",
       "      <td>782.000000</td>\n",
       "      <td>782.000000</td>\n",
       "    </tr>\n",
       "    <tr>\n",
       "      <th>mean</th>\n",
       "      <td>6.941125</td>\n",
       "      <td>4.333760</td>\n",
       "      <td>5.964194</td>\n",
       "      <td>0.388747</td>\n",
       "      <td>870.108696</td>\n",
       "      <td>230.250639</td>\n",
       "      <td>1.325757</td>\n",
       "      <td>25.038990</td>\n",
       "      <td>75.883199</td>\n",
       "      <td>3.538100</td>\n",
       "      <td>52.609199</td>\n",
       "    </tr>\n",
       "    <tr>\n",
       "      <th>std</th>\n",
       "      <td>0.445514</td>\n",
       "      <td>3.169939</td>\n",
       "      <td>1.462724</td>\n",
       "      <td>0.487778</td>\n",
       "      <td>322.465367</td>\n",
       "      <td>250.188177</td>\n",
       "      <td>2.218805</td>\n",
       "      <td>24.225067</td>\n",
       "      <td>137.277078</td>\n",
       "      <td>27.303429</td>\n",
       "      <td>117.898886</td>\n",
       "    </tr>\n",
       "    <tr>\n",
       "      <th>min</th>\n",
       "      <td>6.500000</td>\n",
       "      <td>0.000000</td>\n",
       "      <td>1.000000</td>\n",
       "      <td>0.000000</td>\n",
       "      <td>650.000000</td>\n",
       "      <td>0.000000</td>\n",
       "      <td>0.000000</td>\n",
       "      <td>0.000000</td>\n",
       "      <td>2.700000</td>\n",
       "      <td>-61.848400</td>\n",
       "      <td>-179.968000</td>\n",
       "    </tr>\n",
       "    <tr>\n",
       "      <th>25%</th>\n",
       "      <td>6.600000</td>\n",
       "      <td>0.000000</td>\n",
       "      <td>5.000000</td>\n",
       "      <td>0.000000</td>\n",
       "      <td>691.000000</td>\n",
       "      <td>0.000000</td>\n",
       "      <td>0.000000</td>\n",
       "      <td>14.625000</td>\n",
       "      <td>14.000000</td>\n",
       "      <td>-14.595600</td>\n",
       "      <td>-71.668050</td>\n",
       "    </tr>\n",
       "    <tr>\n",
       "      <th>50%</th>\n",
       "      <td>6.800000</td>\n",
       "      <td>5.000000</td>\n",
       "      <td>6.000000</td>\n",
       "      <td>0.000000</td>\n",
       "      <td>754.000000</td>\n",
       "      <td>140.000000</td>\n",
       "      <td>0.000000</td>\n",
       "      <td>20.000000</td>\n",
       "      <td>26.295000</td>\n",
       "      <td>-2.572500</td>\n",
       "      <td>109.426000</td>\n",
       "    </tr>\n",
       "    <tr>\n",
       "      <th>75%</th>\n",
       "      <td>7.100000</td>\n",
       "      <td>7.000000</td>\n",
       "      <td>7.000000</td>\n",
       "      <td>1.000000</td>\n",
       "      <td>909.750000</td>\n",
       "      <td>445.000000</td>\n",
       "      <td>1.863000</td>\n",
       "      <td>30.000000</td>\n",
       "      <td>49.750000</td>\n",
       "      <td>24.654500</td>\n",
       "      <td>148.941000</td>\n",
       "    </tr>\n",
       "    <tr>\n",
       "      <th>max</th>\n",
       "      <td>9.100000</td>\n",
       "      <td>9.000000</td>\n",
       "      <td>9.000000</td>\n",
       "      <td>1.000000</td>\n",
       "      <td>2910.000000</td>\n",
       "      <td>934.000000</td>\n",
       "      <td>17.654000</td>\n",
       "      <td>239.000000</td>\n",
       "      <td>670.810000</td>\n",
       "      <td>71.631200</td>\n",
       "      <td>179.662000</td>\n",
       "    </tr>\n",
       "  </tbody>\n",
       "</table>\n",
       "</div>"
      ],
      "text/plain": [
       "        magnitude         cdi         mmi     tsunami          sig  \\\n",
       "count  782.000000  782.000000  782.000000  782.000000   782.000000   \n",
       "mean     6.941125    4.333760    5.964194    0.388747   870.108696   \n",
       "std      0.445514    3.169939    1.462724    0.487778   322.465367   \n",
       "min      6.500000    0.000000    1.000000    0.000000   650.000000   \n",
       "25%      6.600000    0.000000    5.000000    0.000000   691.000000   \n",
       "50%      6.800000    5.000000    6.000000    0.000000   754.000000   \n",
       "75%      7.100000    7.000000    7.000000    1.000000   909.750000   \n",
       "max      9.100000    9.000000    9.000000    1.000000  2910.000000   \n",
       "\n",
       "              nst        dmin         gap       depth    latitude   longitude  \n",
       "count  782.000000  782.000000  782.000000  782.000000  782.000000  782.000000  \n",
       "mean   230.250639    1.325757   25.038990   75.883199    3.538100   52.609199  \n",
       "std    250.188177    2.218805   24.225067  137.277078   27.303429  117.898886  \n",
       "min      0.000000    0.000000    0.000000    2.700000  -61.848400 -179.968000  \n",
       "25%      0.000000    0.000000   14.625000   14.000000  -14.595600  -71.668050  \n",
       "50%    140.000000    0.000000   20.000000   26.295000   -2.572500  109.426000  \n",
       "75%    445.000000    1.863000   30.000000   49.750000   24.654500  148.941000  \n",
       "max    934.000000   17.654000  239.000000  670.810000   71.631200  179.662000  "
      ]
     },
     "execution_count": 7,
     "metadata": {},
     "output_type": "execute_result"
    }
   ],
   "source": [
    "df.describe()"
   ]
  },
  {
   "cell_type": "markdown",
   "metadata": {},
   "source": [
    "### Create some visuals"
   ]
  },
  {
   "cell_type": "markdown",
   "metadata": {},
   "source": [
    "#### countplot"
   ]
  },
  {
   "cell_type": "code",
   "execution_count": 8,
   "metadata": {},
   "outputs": [
    {
     "data": {
      "image/png": "[encoded data removed]",
      "text/plain": [
       "<Figure size 432x288 with 1 Axes>"
      ]
     },
     "metadata": {
      "needs_background": "light"
     },
     "output_type": "display_data"
    }
   ],
   "source": [
    "# look at single column\n",
    "\n",
    "sns.countplot(data = df, x = df[\"alert\"]).set_title('Count of Alert Type')\n",
    "plt.show()"
   ]
  },
  {
   "cell_type": "code",
   "execution_count": 9,
   "metadata": {},
   "outputs": [
    {
     "data": {
      "image/png": "[encoded data removed]",
      "text/plain": [
       "<Figure size 432x288 with 1 Axes>"
      ]
     },
     "metadata": {
      "needs_background": "light"
     },
     "output_type": "display_data"
    }
   ],
   "source": [
    "# look at single column, grouped by second column\n",
    "\n",
    "sns.countplot(data = df, x = \"alert\", hue = \"tsunami\").set_title('Count of Alert Type by Tsumami')\n",
    "plt.show()"
   ]
  },
  {
   "cell_type": "markdown",
   "metadata": {},
   "source": [
    "#### pie chart"
   ]
  },
  {
   "cell_type": "code",
   "execution_count": null,
   "metadata": {},
   "outputs": [],
   "source": []
  },
  {
   "cell_type": "markdown",
   "metadata": {},
   "source": [
    "#### histogram"
   ]
  },
  {
   "cell_type": "code",
   "execution_count": null,
   "metadata": {},
   "outputs": [],
   "source": []
  },
  {
   "cell_type": "code",
   "execution_count": null,
   "metadata": {},
   "outputs": [],
   "source": []
  }
 ],
 "metadata": {
  "kernelspec": {
   "display_name": "Python 3",
   "language": "python",
   "name": "python3"
  },
  "language_info": {
   "codemirror_mode": {
    "name": "ipython",
    "version": 3
   },
   "file_extension": ".py",
   "mimetype": "text/x-python",
   "name": "python",
   "nbconvert_exporter": "python",
   "pygments_lexer": "ipython3",
   "version": "3.8.5"
  }
 },
 "nbformat": 4,
 "nbformat_minor": 4
}
