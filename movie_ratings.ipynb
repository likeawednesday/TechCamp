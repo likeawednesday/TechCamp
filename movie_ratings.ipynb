{
 "cells": [
  {
   "cell_type": "code",
   "execution_count": 38,
   "id": "c5fe381c-30fb-439f-a12c-1982fe74c3ac",
   "metadata": {},
   "outputs": [
    {
     "data": {
      "text/html": [
       "<style>table {align:left;display:block}</style>"
      ],
      "text/plain": [
       "<IPython.core.display.HTML object>"
      ]
     },
     "execution_count": 38,
     "metadata": {},
     "output_type": "execute_result"
    }
   ],
   "source": [
    "# load libraries\n",
    "import os\n",
    "import pandas as pd\n",
    "import numpy as np\n",
    "import matplotlib.pyplot as plt\n",
    "import seaborn as sns\n",
    "import squarify\n",
    "\n",
    "# left-align tables in markdown\n",
    "from IPython.core.display import HTML\n",
    "table_css = 'table {align:left;display:block}'\n",
    "HTML('<style>{}</style>'.format(table_css))"
   ]
  },
  {
   "cell_type": "code",
   "execution_count": 15,
   "id": "f639828a-cf75-49d1-b7a8-85c29628acc1",
   "metadata": {},
   "outputs": [
    {
     "data": {
      "text/html": [
       "<div>\n",
       "<style scoped>\n",
       "    .dataframe tbody tr th:only-of-type {\n",
       "        vertical-align: middle;\n",
       "    }\n",
       "\n",
       "    .dataframe tbody tr th {\n",
       "        vertical-align: top;\n",
       "    }\n",
       "\n",
       "    .dataframe thead th {\n",
       "        text-align: right;\n",
       "    }\n",
       "</style>\n",
       "<table border=\"1\" class=\"dataframe\">\n",
       "  <thead>\n",
       "    <tr style=\"text-align: right;\">\n",
       "      <th></th>\n",
       "      <th>Unnamed: 0</th>\n",
       "      <th>Title</th>\n",
       "      <th>Certificate</th>\n",
       "      <th>Duration</th>\n",
       "      <th>Genre</th>\n",
       "      <th>Rate</th>\n",
       "      <th>Metascore</th>\n",
       "      <th>Description</th>\n",
       "      <th>Cast</th>\n",
       "      <th>Info</th>\n",
       "    </tr>\n",
       "  </thead>\n",
       "  <tbody>\n",
       "    <tr>\n",
       "      <th>0</th>\n",
       "      <td>0</td>\n",
       "      <td>1. The Shawshank Redemption (1994)</td>\n",
       "      <td>R</td>\n",
       "      <td>142 min</td>\n",
       "      <td>Drama</td>\n",
       "      <td>9.3</td>\n",
       "      <td>80.0</td>\n",
       "      <td>Two imprisoned men bond over a number of years...</td>\n",
       "      <td>Director: Frank Darabont | Stars: Tim Robbins,...</td>\n",
       "      <td>Votes: 2,295,987 | Gross: $28.34M</td>\n",
       "    </tr>\n",
       "    <tr>\n",
       "      <th>1</th>\n",
       "      <td>1</td>\n",
       "      <td>2. The Godfather (1972)</td>\n",
       "      <td>R</td>\n",
       "      <td>175 min</td>\n",
       "      <td>Crime, Drama</td>\n",
       "      <td>9.2</td>\n",
       "      <td>100.0</td>\n",
       "      <td>The aging patriarch of an organized crime dyna...</td>\n",
       "      <td>Director: Francis Ford Coppola | Stars: Marlon...</td>\n",
       "      <td>Votes: 1,584,782 | Gross: $134.97M</td>\n",
       "    </tr>\n",
       "    <tr>\n",
       "      <th>2</th>\n",
       "      <td>2</td>\n",
       "      <td>3. The Dark Knight (2008)</td>\n",
       "      <td>PG-13</td>\n",
       "      <td>152 min</td>\n",
       "      <td>Action, Crime, Drama</td>\n",
       "      <td>9.0</td>\n",
       "      <td>84.0</td>\n",
       "      <td>When the menace known as the Joker wreaks havo...</td>\n",
       "      <td>Director: Christopher Nolan | Stars: Christian...</td>\n",
       "      <td>Votes: 2,260,649 | Gross: $534.86M</td>\n",
       "    </tr>\n",
       "    <tr>\n",
       "      <th>3</th>\n",
       "      <td>3</td>\n",
       "      <td>4. The Godfather: Part II (1974)</td>\n",
       "      <td>R</td>\n",
       "      <td>202 min</td>\n",
       "      <td>Crime, Drama</td>\n",
       "      <td>9.0</td>\n",
       "      <td>90.0</td>\n",
       "      <td>The early life and career of Vito Corleone in ...</td>\n",
       "      <td>Director: Francis Ford Coppola | Stars: Al Pac...</td>\n",
       "      <td>Votes: 1,107,253 | Gross: $57.30M</td>\n",
       "    </tr>\n",
       "    <tr>\n",
       "      <th>4</th>\n",
       "      <td>4</td>\n",
       "      <td>5. The Lord of the Rings: The Return of the Ki...</td>\n",
       "      <td>PG-13</td>\n",
       "      <td>201 min</td>\n",
       "      <td>Action, Adventure, Drama</td>\n",
       "      <td>8.9</td>\n",
       "      <td>94.0</td>\n",
       "      <td>Gandalf and Aragorn lead the World of Men agai...</td>\n",
       "      <td>Director: Peter Jackson | Stars: Elijah Wood, ...</td>\n",
       "      <td>Votes: 1,614,369 | Gross: $377.85M</td>\n",
       "    </tr>\n",
       "  </tbody>\n",
       "</table>\n",
       "</div>"
      ],
      "text/plain": [
       "   Unnamed: 0                                              Title Certificate   \n",
       "0           0                 1. The Shawshank Redemption (1994)           R  \\\n",
       "1           1                            2. The Godfather (1972)           R   \n",
       "2           2                          3. The Dark Knight (2008)       PG-13   \n",
       "3           3                   4. The Godfather: Part II (1974)           R   \n",
       "4           4  5. The Lord of the Rings: The Return of the Ki...       PG-13   \n",
       "\n",
       "  Duration                     Genre  Rate  Metascore   \n",
       "0  142 min                     Drama   9.3       80.0  \\\n",
       "1  175 min              Crime, Drama   9.2      100.0   \n",
       "2  152 min      Action, Crime, Drama   9.0       84.0   \n",
       "3  202 min              Crime, Drama   9.0       90.0   \n",
       "4  201 min  Action, Adventure, Drama   8.9       94.0   \n",
       "\n",
       "                                         Description   \n",
       "0  Two imprisoned men bond over a number of years...  \\\n",
       "1  The aging patriarch of an organized crime dyna...   \n",
       "2  When the menace known as the Joker wreaks havo...   \n",
       "3  The early life and career of Vito Corleone in ...   \n",
       "4  Gandalf and Aragorn lead the World of Men agai...   \n",
       "\n",
       "                                                Cast   \n",
       "0  Director: Frank Darabont | Stars: Tim Robbins,...  \\\n",
       "1  Director: Francis Ford Coppola | Stars: Marlon...   \n",
       "2  Director: Christopher Nolan | Stars: Christian...   \n",
       "3  Director: Francis Ford Coppola | Stars: Al Pac...   \n",
       "4  Director: Peter Jackson | Stars: Elijah Wood, ...   \n",
       "\n",
       "                                 Info  \n",
       "0   Votes: 2,295,987 | Gross: $28.34M  \n",
       "1  Votes: 1,584,782 | Gross: $134.97M  \n",
       "2  Votes: 2,260,649 | Gross: $534.86M  \n",
       "3   Votes: 1,107,253 | Gross: $57.30M  \n",
       "4  Votes: 1,614,369 | Gross: $377.85M  "
      ]
     },
     "execution_count": 15,
     "metadata": {},
     "output_type": "execute_result"
    }
   ],
   "source": [
    "# import data\n",
    "filePath = os.path.join('.','data','sample_4_imdb.xlsx')\n",
    "df = pd.read_excel(filePath, engine = 'openpyxl')\n",
    "\n",
    "# preview the data\n",
    "df.head()"
   ]
  },
  {
   "cell_type": "code",
   "execution_count": 48,
   "id": "1bbb3fe8-90f0-479c-8e48-fc30b2b0df0c",
   "metadata": {},
   "outputs": [
    {
     "name": "stdout",
     "output_type": "stream",
     "text": [
      "Size:  1111 \tShape:  (101, 11) \n",
      "\n",
      "Boolean Values\n",
      " Unnamed: 0     False\n",
      "Title          False\n",
      "Certificate     True\n",
      "Duration       False\n",
      "Genre          False\n",
      "Rate           False\n",
      "Metascore       True\n",
      "Description    False\n",
      "Cast           False\n",
      "Info           False\n",
      "Grade          False\n",
      "dtype: bool \n",
      "\n",
      "\n",
      "Null/NaN Count\n",
      " Unnamed: 0      0\n",
      "Title           0\n",
      "Certificate     3\n",
      "Duration        0\n",
      "Genre           0\n",
      "Rate            0\n",
      "Metascore      19\n",
      "Description     0\n",
      "Cast            0\n",
      "Info            0\n",
      "Grade           0\n",
      "dtype: int64 \n",
      "\n",
      "\n"
     ]
    },
    {
     "data": {
      "text/plain": [
       "Unnamed: 0       int64\n",
       "Title           object\n",
       "Certificate     object\n",
       "Duration        object\n",
       "Genre           object\n",
       "Rate           float64\n",
       "Metascore      float64\n",
       "Description     object\n",
       "Cast            object\n",
       "Info            object\n",
       "Grade           object\n",
       "dtype: object"
      ]
     },
     "execution_count": 48,
     "metadata": {},
     "output_type": "execute_result"
    }
   ],
   "source": [
    "# size and shape of data\n",
    "print('Size: ', df.size, '\\tShape: ', df.shape, '\\n')\n",
    "\n",
    "# check for null values\n",
    "# tells you if a null value exists in each column\n",
    "print('Null Values\\n', df.isnull().any(),'\\n\\n')\n",
    "# tells you how many null values exist in each column\n",
    "print('Null/NaN Count\\n', df.isnull().sum(),'\\n\\n')\n",
    "\n",
    "# check data types\n",
    "df.dtypes"
   ]
  },
  {
   "cell_type": "code",
   "execution_count": 45,
   "id": "3b91c1f9-863d-4b2a-b08a-be12165ab47b",
   "metadata": {},
   "outputs": [
    {
     "data": {
      "image/png": "[encoded data removed]",
      "text/plain": [
       "<Figure size 640x480 with 1 Axes>"
      ]
     },
     "metadata": {},
     "output_type": "display_data"
    }
   ],
   "source": [
    "# pie chart using matplotlib\n",
    "p_pie = df.groupby('Rate')['Rate'].count().plot.pie(\n",
    "    # autopct = '%.2f%%'\n",
    ")\n",
    "p_pie.set_title('Movie Ratings')\n",
    "plt.show()"
   ]
  },
  {
   "cell_type": "markdown",
   "id": "f36e51e8-1eef-48c3-8c2d-9049f16dd0c7",
   "metadata": {},
   "source": [
    "## Let's make a better visual using the same data.\n",
    "\n",
    "We'll start by grouping the ratings into letter grades, just like in school:\n",
    "\n",
    "| Letter Grade | Score |\n",
    "|---|---|\n",
    "| A+ | 97–100% |\n",
    "| A | 93–96% |\n",
    "| A− | 90–92% |\n",
    "| B+ | 87–89% |\n",
    "| B | 83–86% |\n",
    "| B− | 80–82% |\n",
    "| C+ | 77–79% |\n",
    "| C | 73–76% |\n",
    "| C− | 70–72% |\n",
    "| D+ | 67–69% |\n",
    "| D | 63–66% |\n",
    "| D− | 60–62% |\n",
    "| F | 0–59% |"
   ]
  },
  {
   "cell_type": "code",
   "execution_count": 42,
   "id": "01d2e715-f2f4-427a-94a9-4fec41c7d870",
   "metadata": {},
   "outputs": [
    {
     "data": {
      "text/html": [
       "<div>\n",
       "<style scoped>\n",
       "    .dataframe tbody tr th:only-of-type {\n",
       "        vertical-align: middle;\n",
       "    }\n",
       "\n",
       "    .dataframe tbody tr th {\n",
       "        vertical-align: top;\n",
       "    }\n",
       "\n",
       "    .dataframe thead th {\n",
       "        text-align: right;\n",
       "    }\n",
       "</style>\n",
       "<table border=\"1\" class=\"dataframe\">\n",
       "  <thead>\n",
       "    <tr style=\"text-align: right;\">\n",
       "      <th></th>\n",
       "      <th>Title</th>\n",
       "      <th>Rate</th>\n",
       "      <th>Grade</th>\n",
       "    </tr>\n",
       "  </thead>\n",
       "  <tbody>\n",
       "    <tr>\n",
       "      <th>0</th>\n",
       "      <td>1. The Shawshank Redemption (1994)</td>\n",
       "      <td>9.3</td>\n",
       "      <td>A</td>\n",
       "    </tr>\n",
       "    <tr>\n",
       "      <th>1</th>\n",
       "      <td>2. The Godfather (1972)</td>\n",
       "      <td>9.2</td>\n",
       "      <td>A-</td>\n",
       "    </tr>\n",
       "    <tr>\n",
       "      <th>2</th>\n",
       "      <td>3. The Dark Knight (2008)</td>\n",
       "      <td>9.0</td>\n",
       "      <td>A-</td>\n",
       "    </tr>\n",
       "    <tr>\n",
       "      <th>3</th>\n",
       "      <td>4. The Godfather: Part II (1974)</td>\n",
       "      <td>9.0</td>\n",
       "      <td>A-</td>\n",
       "    </tr>\n",
       "    <tr>\n",
       "      <th>4</th>\n",
       "      <td>5. The Lord of the Rings: The Return of the Ki...</td>\n",
       "      <td>8.9</td>\n",
       "      <td>B+</td>\n",
       "    </tr>\n",
       "  </tbody>\n",
       "</table>\n",
       "</div>"
      ],
      "text/plain": [
       "                                               Title  Rate Grade\n",
       "0                 1. The Shawshank Redemption (1994)   9.3     A\n",
       "1                            2. The Godfather (1972)   9.2    A-\n",
       "2                          3. The Dark Knight (2008)   9.0    A-\n",
       "3                   4. The Godfather: Part II (1974)   9.0    A-\n",
       "4  5. The Lord of the Rings: The Return of the Ki...   8.9    B+"
      ]
     },
     "execution_count": 42,
     "metadata": {},
     "output_type": "execute_result"
    }
   ],
   "source": [
    "# We'll need to add a new \"Grade\" column to the dataframe.\n",
    "# Let's use numpy to create a nested conditional statement and assign a Letter Grade to each movie in the dataframe:\n",
    "df['Grade'] = \\\n",
    "    np.where(df['Rate'] < 6,   'F',\n",
    "    np.where(df['Rate'] < 6.3, 'D-',\n",
    "    np.where(df['Rate'] < 6.7, 'D',\n",
    "    np.where(df['Rate'] < 7,   'D+',\n",
    "    np.where(df['Rate'] < 7.3, 'C-',\n",
    "    np.where(df['Rate'] < 7.7, 'C',\n",
    "    np.where(df['Rate'] < 8,   'C+',\n",
    "    np.where(df['Rate'] < 8.3, 'B-',\n",
    "    np.where(df['Rate'] < 8.7, 'B',\n",
    "    np.where(df['Rate'] < 9.0, 'B+',\n",
    "    np.where(df['Rate'] < 9.3, 'A-',\n",
    "    np.where(df['Rate'] < 9.7, 'A', \n",
    "    'A+'))))))))))))\n",
    "\n",
    "# Let's check to make sure our new \"Grade\" column is in the dataframe.\n",
    "# This time, we'll preview the first 5 rows and only show the Title, Rate, and Grade columns:\n",
    "df.loc[:,['Title', 'Rate', 'Grade']].head()"
   ]
  },
  {
   "cell_type": "code",
   "execution_count": 47,
   "id": "f7185ca3-2b44-4e65-9bb3-799525358a67",
   "metadata": {},
   "outputs": [
    {
     "data": {
      "image/png": "[encoded data removed]",
      "text/plain": [
       "<Figure size 800x800 with 1 Axes>"
      ]
     },
     "metadata": {},
     "output_type": "display_data"
    }
   ],
   "source": [
    "# Great, our new \"Grade\" column is now part of the dataframe.\n",
    "# Let's see how our pie chart looks when we use the \"Grade\" column instead of the \"Rate\" column\n",
    "p_pie = df.groupby('Grade')['Grade'].count().plot.pie(\n",
    "    autopct = '%.2f%%', \n",
    "    figsize = (8, 8)\n",
    ")\n",
    "p_pie.set_title('Movie Grades')\n",
    "plt.show()"
   ]
  },
  {
   "cell_type": "markdown",
   "id": "7fe8bfb1-76ba-4334-a18f-e4af80f9f400",
   "metadata": {},
   "source": [
    "## Wow, that's much better! \n",
    "\n",
    "The technical term for what we've just done here is \"binning,\" like \"putting things into bins.\"\n",
    "Binning is useful for creating groups of rows with similar (but not identical) values.\n",
    "\n",
    "## Questions\n",
    "\n",
    "- Can you think of any examples where you've seen binning used in a chart or graph in the real world?\n",
    "- If so, do you think it helped make the data easier to understand?"
   ]
  },
  {
   "cell_type": "code",
   "execution_count": null,
   "id": "8769b295-2b91-426d-8323-8ae8d9c9a768",
   "metadata": {},
   "outputs": [],
   "source": [
    "\"\"\"\n",
    "\n",
    "\n",
    "\"\"\""
   ]
  }
 ],
 "metadata": {
  "kernelspec": {
   "display_name": "Python 3 (ipykernel)",
   "language": "python",
   "name": "python3"
  },
  "language_info": {
   "codemirror_mode": {
    "name": "ipython",
    "version": 3
   },
   "file_extension": ".py",
   "mimetype": "text/x-python",
   "name": "python",
   "nbconvert_exporter": "python",
   "pygments_lexer": "ipython3",
   "version": "3.9.2"
  }
 },
 "nbformat": 4,
 "nbformat_minor": 5
}
